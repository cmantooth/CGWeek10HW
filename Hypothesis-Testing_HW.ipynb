{
 "cells": [
  {
   "cell_type": "markdown",
   "metadata": {},
   "source": [
    "# Instructions\n",
    "\n",
    "* This notebook has a combination of fill-in-the-blank and entire code blocks you need to solve. "
   ]
  },
  {
   "cell_type": "markdown",
   "metadata": {},
   "source": [
    "# Hypothesis Testing\n",
    "\n",
    "\n",
    "We would like to know if the effects we see in the sample(observed data) are likely to occur in the population. \n",
    "\n",
    "The way classical hypothesis testing works is by conducting a statistical test to answer the following question:\n",
    "> Given the sample and an effect, what is the probability of seeing that effect just by chance?\n",
    "\n",
    "Here are the steps on how we would do this\n",
    "\n",
    "1. Compute test statistic\n",
    "2. Define null hypothesis\n",
    "3. Compute p-value\n",
    "4. Interpret the result\n",
    "\n",
    "If p-value is very low (below 0.05), the effect is considered statistically significant. That means that effect is unlikely to have occured by chance. The inference? The effect is likely to be seen in the population too. \n",
    "\n",
    "This process is very similar to the *proof by contradiction* paradigm. We first assume that the effect is false. That's the null hypothesis. Next step is to compute the probability of obtaining that effect (the p-value). If p-value is very low (<0.05 as a rule of thumb), we reject the null hypothesis. "
   ]
  },
  {
   "cell_type": "code",
   "execution_count": 3,
   "metadata": {},
   "outputs": [],
   "source": [
    "import numpy as np\n",
    "import pandas as pd\n",
    "from scipy import stats\n",
    "import matplotlib as mpl\n",
    "%matplotlib inline"
   ]
  },
  {
   "cell_type": "code",
   "execution_count": 24,
   "metadata": {},
   "outputs": [],
   "source": [
    "import seaborn as sns\n",
    "sns.set(color_codes=True)"
   ]
  },
  {
   "cell_type": "code",
   "execution_count": 25,
   "metadata": {},
   "outputs": [
    {
     "data": {
      "text/html": [
       "<div>\n",
       "<style scoped>\n",
       "    .dataframe tbody tr th:only-of-type {\n",
       "        vertical-align: middle;\n",
       "    }\n",
       "\n",
       "    .dataframe tbody tr th {\n",
       "        vertical-align: top;\n",
       "    }\n",
       "\n",
       "    .dataframe thead th {\n",
       "        text-align: right;\n",
       "    }\n",
       "</style>\n",
       "<table border=\"1\" class=\"dataframe\">\n",
       "  <thead>\n",
       "    <tr style=\"text-align: right;\">\n",
       "      <th></th>\n",
       "      <th>State</th>\n",
       "      <th>HighQ</th>\n",
       "      <th>HighQN</th>\n",
       "      <th>MedQ</th>\n",
       "      <th>MedQN</th>\n",
       "      <th>LowQ</th>\n",
       "      <th>LowQN</th>\n",
       "      <th>date</th>\n",
       "    </tr>\n",
       "  </thead>\n",
       "  <tbody>\n",
       "    <tr>\n",
       "      <th>0</th>\n",
       "      <td>Alabama</td>\n",
       "      <td>339.06</td>\n",
       "      <td>1042</td>\n",
       "      <td>198.64</td>\n",
       "      <td>933</td>\n",
       "      <td>149.49</td>\n",
       "      <td>123</td>\n",
       "      <td>2014-01-01</td>\n",
       "    </tr>\n",
       "    <tr>\n",
       "      <th>1</th>\n",
       "      <td>Alaska</td>\n",
       "      <td>288.75</td>\n",
       "      <td>252</td>\n",
       "      <td>260.60</td>\n",
       "      <td>297</td>\n",
       "      <td>388.58</td>\n",
       "      <td>26</td>\n",
       "      <td>2014-01-01</td>\n",
       "    </tr>\n",
       "    <tr>\n",
       "      <th>2</th>\n",
       "      <td>Arizona</td>\n",
       "      <td>303.31</td>\n",
       "      <td>1941</td>\n",
       "      <td>209.35</td>\n",
       "      <td>1625</td>\n",
       "      <td>189.45</td>\n",
       "      <td>222</td>\n",
       "      <td>2014-01-01</td>\n",
       "    </tr>\n",
       "    <tr>\n",
       "      <th>3</th>\n",
       "      <td>Arkansas</td>\n",
       "      <td>361.85</td>\n",
       "      <td>576</td>\n",
       "      <td>185.62</td>\n",
       "      <td>544</td>\n",
       "      <td>125.87</td>\n",
       "      <td>112</td>\n",
       "      <td>2014-01-01</td>\n",
       "    </tr>\n",
       "    <tr>\n",
       "      <th>4</th>\n",
       "      <td>California</td>\n",
       "      <td>248.78</td>\n",
       "      <td>12096</td>\n",
       "      <td>193.56</td>\n",
       "      <td>12812</td>\n",
       "      <td>192.92</td>\n",
       "      <td>778</td>\n",
       "      <td>2014-01-01</td>\n",
       "    </tr>\n",
       "  </tbody>\n",
       "</table>\n",
       "</div>"
      ],
      "text/plain": [
       "        State   HighQ  HighQN    MedQ  MedQN    LowQ  LowQN       date\n",
       "0     Alabama  339.06    1042  198.64    933  149.49    123 2014-01-01\n",
       "1      Alaska  288.75     252  260.60    297  388.58     26 2014-01-01\n",
       "2     Arizona  303.31    1941  209.35   1625  189.45    222 2014-01-01\n",
       "3    Arkansas  361.85     576  185.62    544  125.87    112 2014-01-01\n",
       "4  California  248.78   12096  193.56  12812  192.92    778 2014-01-01"
      ]
     },
     "execution_count": 25,
     "metadata": {},
     "output_type": "execute_result"
    }
   ],
   "source": [
    "weed_pd = pd.read_csv(\"../data/Weed_Price.csv\", parse_dates=[-1])\n",
    "weed_pd.head()"
   ]
  },
  {
   "cell_type": "markdown",
   "metadata": {},
   "source": [
    "* Parse the `date` column to create two new columns: one for `month` and one for `year`."
   ]
  },
  {
   "cell_type": "code",
   "execution_count": 26,
   "metadata": {},
   "outputs": [],
   "source": [
    "#Complete the code below\n",
    "\n",
    "weed_pd[\"month\"] = weed_pd[\"date\"].apply(lambda x: x.month) ##can we talk about how lambda works here?\n",
    "weed_pd[\"year\"] = weed_pd[\"date\"].apply(lambda x: x.year)"
   ]
  },
  {
   "cell_type": "code",
   "execution_count": 27,
   "metadata": {},
   "outputs": [
    {
     "data": {
      "text/html": [
       "<div>\n",
       "<style scoped>\n",
       "    .dataframe tbody tr th:only-of-type {\n",
       "        vertical-align: middle;\n",
       "    }\n",
       "\n",
       "    .dataframe tbody tr th {\n",
       "        vertical-align: top;\n",
       "    }\n",
       "\n",
       "    .dataframe thead th {\n",
       "        text-align: right;\n",
       "    }\n",
       "</style>\n",
       "<table border=\"1\" class=\"dataframe\">\n",
       "  <thead>\n",
       "    <tr style=\"text-align: right;\">\n",
       "      <th></th>\n",
       "      <th>State</th>\n",
       "      <th>HighQ</th>\n",
       "      <th>HighQN</th>\n",
       "      <th>MedQ</th>\n",
       "      <th>MedQN</th>\n",
       "      <th>LowQ</th>\n",
       "      <th>LowQN</th>\n",
       "      <th>date</th>\n",
       "      <th>month</th>\n",
       "      <th>year</th>\n",
       "    </tr>\n",
       "  </thead>\n",
       "  <tbody>\n",
       "    <tr>\n",
       "      <th>0</th>\n",
       "      <td>Alabama</td>\n",
       "      <td>339.06</td>\n",
       "      <td>1042</td>\n",
       "      <td>198.64</td>\n",
       "      <td>933</td>\n",
       "      <td>149.49</td>\n",
       "      <td>123</td>\n",
       "      <td>2014-01-01</td>\n",
       "      <td>1</td>\n",
       "      <td>2014</td>\n",
       "    </tr>\n",
       "    <tr>\n",
       "      <th>1</th>\n",
       "      <td>Alaska</td>\n",
       "      <td>288.75</td>\n",
       "      <td>252</td>\n",
       "      <td>260.60</td>\n",
       "      <td>297</td>\n",
       "      <td>388.58</td>\n",
       "      <td>26</td>\n",
       "      <td>2014-01-01</td>\n",
       "      <td>1</td>\n",
       "      <td>2014</td>\n",
       "    </tr>\n",
       "    <tr>\n",
       "      <th>2</th>\n",
       "      <td>Arizona</td>\n",
       "      <td>303.31</td>\n",
       "      <td>1941</td>\n",
       "      <td>209.35</td>\n",
       "      <td>1625</td>\n",
       "      <td>189.45</td>\n",
       "      <td>222</td>\n",
       "      <td>2014-01-01</td>\n",
       "      <td>1</td>\n",
       "      <td>2014</td>\n",
       "    </tr>\n",
       "    <tr>\n",
       "      <th>3</th>\n",
       "      <td>Arkansas</td>\n",
       "      <td>361.85</td>\n",
       "      <td>576</td>\n",
       "      <td>185.62</td>\n",
       "      <td>544</td>\n",
       "      <td>125.87</td>\n",
       "      <td>112</td>\n",
       "      <td>2014-01-01</td>\n",
       "      <td>1</td>\n",
       "      <td>2014</td>\n",
       "    </tr>\n",
       "    <tr>\n",
       "      <th>4</th>\n",
       "      <td>California</td>\n",
       "      <td>248.78</td>\n",
       "      <td>12096</td>\n",
       "      <td>193.56</td>\n",
       "      <td>12812</td>\n",
       "      <td>192.92</td>\n",
       "      <td>778</td>\n",
       "      <td>2014-01-01</td>\n",
       "      <td>1</td>\n",
       "      <td>2014</td>\n",
       "    </tr>\n",
       "  </tbody>\n",
       "</table>\n",
       "</div>"
      ],
      "text/plain": [
       "        State   HighQ  HighQN    MedQ  MedQN    LowQ  LowQN       date  month  \\\n",
       "0     Alabama  339.06    1042  198.64    933  149.49    123 2014-01-01      1   \n",
       "1      Alaska  288.75     252  260.60    297  388.58     26 2014-01-01      1   \n",
       "2     Arizona  303.31    1941  209.35   1625  189.45    222 2014-01-01      1   \n",
       "3    Arkansas  361.85     576  185.62    544  125.87    112 2014-01-01      1   \n",
       "4  California  248.78   12096  193.56  12812  192.92    778 2014-01-01      1   \n",
       "\n",
       "   year  \n",
       "0  2014  \n",
       "1  2014  \n",
       "2  2014  \n",
       "3  2014  \n",
       "4  2014  "
      ]
     },
     "execution_count": 27,
     "metadata": {},
     "output_type": "execute_result"
    }
   ],
   "source": [
    "weed_pd.head()"
   ]
  },
  {
   "cell_type": "markdown",
   "metadata": {},
   "source": [
    "### Let's work on weed prices in California in 2014\n"
   ]
  },
  {
   "cell_type": "markdown",
   "metadata": {},
   "source": [
    "* Parse the `weed_pd` DataFrame so that it contains only entries for California from 2014."
   ]
  },
  {
   "cell_type": "code",
   "execution_count": 31,
   "metadata": {},
   "outputs": [
    {
     "data": {
      "text/html": [
       "<div>\n",
       "<style scoped>\n",
       "    .dataframe tbody tr th:only-of-type {\n",
       "        vertical-align: middle;\n",
       "    }\n",
       "\n",
       "    .dataframe tbody tr th {\n",
       "        vertical-align: top;\n",
       "    }\n",
       "\n",
       "    .dataframe thead th {\n",
       "        text-align: right;\n",
       "    }\n",
       "</style>\n",
       "<table border=\"1\" class=\"dataframe\">\n",
       "  <thead>\n",
       "    <tr style=\"text-align: right;\">\n",
       "      <th></th>\n",
       "      <th>index</th>\n",
       "      <th>State</th>\n",
       "      <th>year</th>\n",
       "      <th>HighQ</th>\n",
       "    </tr>\n",
       "  </thead>\n",
       "  <tbody>\n",
       "    <tr>\n",
       "      <th>0</th>\n",
       "      <td>4</td>\n",
       "      <td>California</td>\n",
       "      <td>2014</td>\n",
       "      <td>248.78</td>\n",
       "    </tr>\n",
       "    <tr>\n",
       "      <th>1</th>\n",
       "      <td>106</td>\n",
       "      <td>California</td>\n",
       "      <td>2014</td>\n",
       "      <td>248.20</td>\n",
       "    </tr>\n",
       "    <tr>\n",
       "      <th>2</th>\n",
       "      <td>208</td>\n",
       "      <td>California</td>\n",
       "      <td>2014</td>\n",
       "      <td>247.60</td>\n",
       "    </tr>\n",
       "    <tr>\n",
       "      <th>3</th>\n",
       "      <td>259</td>\n",
       "      <td>California</td>\n",
       "      <td>2014</td>\n",
       "      <td>246.76</td>\n",
       "    </tr>\n",
       "    <tr>\n",
       "      <th>4</th>\n",
       "      <td>310</td>\n",
       "      <td>California</td>\n",
       "      <td>2014</td>\n",
       "      <td>246.04</td>\n",
       "    </tr>\n",
       "    <tr>\n",
       "      <th>...</th>\n",
       "      <td>...</td>\n",
       "      <td>...</td>\n",
       "      <td>...</td>\n",
       "      <td>...</td>\n",
       "    </tr>\n",
       "    <tr>\n",
       "      <th>359</th>\n",
       "      <td>22546</td>\n",
       "      <td>California</td>\n",
       "      <td>2014</td>\n",
       "      <td>245.68</td>\n",
       "    </tr>\n",
       "    <tr>\n",
       "      <th>360</th>\n",
       "      <td>22648</td>\n",
       "      <td>California</td>\n",
       "      <td>2014</td>\n",
       "      <td>245.39</td>\n",
       "    </tr>\n",
       "    <tr>\n",
       "      <th>361</th>\n",
       "      <td>22699</td>\n",
       "      <td>California</td>\n",
       "      <td>2014</td>\n",
       "      <td>245.11</td>\n",
       "    </tr>\n",
       "    <tr>\n",
       "      <th>362</th>\n",
       "      <td>22750</td>\n",
       "      <td>California</td>\n",
       "      <td>2014</td>\n",
       "      <td>245.13</td>\n",
       "    </tr>\n",
       "    <tr>\n",
       "      <th>363</th>\n",
       "      <td>22852</td>\n",
       "      <td>California</td>\n",
       "      <td>2014</td>\n",
       "      <td>243.96</td>\n",
       "    </tr>\n",
       "  </tbody>\n",
       "</table>\n",
       "<p>364 rows × 4 columns</p>\n",
       "</div>"
      ],
      "text/plain": [
       "     index       State  year   HighQ\n",
       "0        4  California  2014  248.78\n",
       "1      106  California  2014  248.20\n",
       "2      208  California  2014  247.60\n",
       "3      259  California  2014  246.76\n",
       "4      310  California  2014  246.04\n",
       "..     ...         ...   ...     ...\n",
       "359  22546  California  2014  245.68\n",
       "360  22648  California  2014  245.39\n",
       "361  22699  California  2014  245.11\n",
       "362  22750  California  2014  245.13\n",
       "363  22852  California  2014  243.96\n",
       "\n",
       "[364 rows x 4 columns]"
      ]
     },
     "execution_count": 31,
     "metadata": {},
     "output_type": "execute_result"
    }
   ],
   "source": [
    "weed_ca_2014 = weed_pd.loc[(weed_pd['State'] == 'California') & (weed_pd['year'] == 2014), ['State', 'year','HighQ']].reset_index()\n",
    "weed_ca_2014"
   ]
  },
  {
   "cell_type": "code",
   "execution_count": 32,
   "metadata": {},
   "outputs": [
    {
     "name": "stdout",
     "output_type": "stream",
     "text": [
      "['California']\n",
      "[2014]\n"
     ]
    }
   ],
   "source": [
    "print(weed_ca_2014['State'].unique())\n",
    "print(weed_ca_2014['year'].unique())"
   ]
  },
  {
   "cell_type": "markdown",
   "metadata": {},
   "source": [
    "* Find the mean and standard deviation of high quality weed's price."
   ]
  },
  {
   "cell_type": "code",
   "execution_count": 41,
   "metadata": {},
   "outputs": [
    {
     "name": "stdout",
     "output_type": "stream",
     "text": [
      "Mean: 245.89423076923077\n",
      "Standard Deviation: 1.2899079393714108\n"
     ]
    }
   ],
   "source": [
    "print(\"Mean:\", weed_ca_2014['HighQ'].mean())\n",
    "print(\"Standard Deviation:\", np.std(weed_ca_2014['HighQ'], ddof=1))"
   ]
  },
  {
   "cell_type": "markdown",
   "metadata": {},
   "source": [
    "* Calculate the 95% confidence interval on the mean."
   ]
  },
  {
   "cell_type": "code",
   "execution_count": 3,
   "metadata": {},
   "outputs": [],
   "source": [
    "stats.norm.interval?"
   ]
  },
  {
   "cell_type": "code",
   "execution_count": 47,
   "metadata": {},
   "outputs": [
    {
     "data": {
      "text/plain": [
       "(245.7617184927259, 246.02674304573566)"
      ]
     },
     "execution_count": 47,
     "metadata": {},
     "output_type": "execute_result"
    }
   ],
   "source": [
    "stats.norm.interval(0.95 , loc= 245.89423076923077, scale = weed_ca_2014.HighQ.std()/np.sqrt(len(weed_ca_2014)))"
   ]
  },
  {
   "cell_type": "markdown",
   "metadata": {},
   "source": [
    "### Question: Are high-quality weed prices in Jan 2014 significantly higher than in Jan 2015?"
   ]
  },
  {
   "cell_type": "markdown",
   "metadata": {},
   "source": [
    "* Make two `numpy` arrays by subetting the original DataFrame: each array should list the `HighQ` entries for California in January of 2014 and 2015."
   ]
  },
  {
   "cell_type": "code",
   "execution_count": 67,
   "metadata": {},
   "outputs": [],
   "source": [
    "#Get the data\n",
    "## Why does this have to be numpy array?**got it--because of the ttest\n",
    "weed_ca_jan2014 = weed_pd.loc[(weed_pd['State'] == 'California') & (weed_pd['month'] == 1) & (weed_pd['year'] == 2014), ['HighQ']].to_numpy()\n",
    "weed_ca_jan2015 = weed_pd.loc[(weed_pd['State'] == 'California') & (weed_pd['month'] == 1) & (weed_pd['year'] == 2015), ['HighQ']].to_numpy()\n"
   ]
  },
  {
   "cell_type": "code",
   "execution_count": 68,
   "metadata": {
    "scrolled": true
   },
   "outputs": [
    {
     "name": "stdout",
     "output_type": "stream",
     "text": [
      "<class 'numpy.ndarray'>\n"
     ]
    },
    {
     "data": {
      "text/plain": [
       "array([[248.78],\n",
       "       [248.67],\n",
       "       [248.67],\n",
       "       [248.65],\n",
       "       [248.68],\n",
       "       [248.68],\n",
       "       [248.64],\n",
       "       [248.63],\n",
       "       [248.58],\n",
       "       [248.56],\n",
       "       [248.54],\n",
       "       [248.47],\n",
       "       [248.45],\n",
       "       [248.41],\n",
       "       [248.48],\n",
       "       [248.44],\n",
       "       [248.43],\n",
       "       [248.49],\n",
       "       [248.44],\n",
       "       [248.39],\n",
       "       [248.33],\n",
       "       [248.28],\n",
       "       [248.25],\n",
       "       [248.22],\n",
       "       [248.18],\n",
       "       [248.21],\n",
       "       [248.24],\n",
       "       [248.28],\n",
       "       [248.23],\n",
       "       [248.28],\n",
       "       [248.23]])"
      ]
     },
     "execution_count": 68,
     "metadata": {},
     "output_type": "execute_result"
    }
   ],
   "source": [
    "print(type(weed_ca_jan2014))\n",
    "weed_ca_jan2014"
   ]
  },
  {
   "cell_type": "markdown",
   "metadata": {},
   "source": [
    "* Find the mean value for each of the arrays."
   ]
  },
  {
   "cell_type": "code",
   "execution_count": 69,
   "metadata": {},
   "outputs": [
    {
     "name": "stdout",
     "output_type": "stream",
     "text": [
      "Mean-2014 Jan: [248.44548387]\n",
      "Mean-2015 Jan: [243.60225806]\n"
     ]
    }
   ],
   "source": [
    "print(\"Mean-2014 Jan:\", np.mean(weed_ca_jan2014, axis = 0 ))\n",
    "print(\"Mean-2015 Jan:\", np.mean(weed_ca_jan2015, axis = 0 ))"
   ]
  },
  {
   "cell_type": "markdown",
   "metadata": {},
   "source": [
    "* Calculate the effect size of one year on the mean value of weed prices in California. What difference does one year make in terms of average weed prices?"
   ]
  },
  {
   "cell_type": "code",
   "execution_count": 71,
   "metadata": {},
   "outputs": [
    {
     "name": "stdout",
     "output_type": "stream",
     "text": [
      "Effect size: 4.843225810000007\n"
     ]
    }
   ],
   "source": [
    "print(\"Effect size:\", (248.44548387-243.60225806))"
   ]
  },
  {
   "cell_type": "markdown",
   "metadata": {},
   "source": [
    "**Null Hypothesis**: Mean prices aren't significantly different\n",
    "\n",
    "Perform **t-test** and determine the p-value. "
   ]
  },
  {
   "cell_type": "code",
   "execution_count": 26,
   "metadata": {},
   "outputs": [],
   "source": [
    "stats.ttest_ind?"
   ]
  },
  {
   "cell_type": "code",
   "execution_count": 72,
   "metadata": {},
   "outputs": [
    {
     "data": {
      "text/plain": [
       "Ttest_indResult(statistic=array([98.01132524]), pvalue=array([6.29797182e-68]))"
      ]
     },
     "execution_count": 72,
     "metadata": {},
     "output_type": "execute_result"
    }
   ],
   "source": [
    "stats.ttest_ind(weed_ca_jan2014 , weed_ca_jan2015 , equal_var=True)"
   ]
  },
  {
   "cell_type": "markdown",
   "metadata": {},
   "source": [
    "p-value is the probability that the effective size was by chance. And here, p-value is almost 0.\n",
    "\n",
    "*Conclusion*: The price difference is significant. But is a price increase of $4.85 a big deal? The price decreased in 2015 by almost 2%. Always remember to look at effect size. "
   ]
  },
  {
   "cell_type": "markdown",
   "metadata": {},
   "source": [
    "### t-test Challenge\n",
    "**Problem** Determine if prices of medium quality weed for Jan 2015 and Feb 2015 are significantly different for New York. \n",
    "* _**CoderGirl**: Use what you've learned above to answer the below two questions._"
   ]
  },
  {
   "cell_type": "code",
   "execution_count": 80,
   "metadata": {},
   "outputs": [
    {
     "name": "stdout",
     "output_type": "stream",
     "text": [
      "Effect size is: 4.860898617511566\n",
      "Ttest_indResult(statistic=array([-64.74877659]), pvalue=array([4.57103871e-55]))\n"
     ]
    }
   ],
   "source": [
    "weed_ny_jan2015 = weed_pd.loc[(weed_pd['State'] == 'New York') & (weed_pd['month'] == 1) & (weed_pd['year'] == 2015), ['MedQ']].to_numpy()\n",
    "weed_ny_feb2015 = weed_pd.loc[(weed_pd['State'] == 'New York') & (weed_pd['month'] == 2) & (weed_pd['year'] == 2014), ['MedQ']].to_numpy()\n",
    "\n",
    "print(\"Effect size is:\", (np.mean(weed_ny_feb2015))-(np.mean(weed_ny_jan2015)))\n",
    "      \n",
    "print(stats.ttest_ind(weed_ny_jan2015, weed_ny_feb2015, equal_var=True))\n",
    "\n"
   ]
  },
  {
   "cell_type": "markdown",
   "metadata": {},
   "source": [
    "The p-value is < 0.05, and the effect size was an $4.86 rise, so while it was significantly different, it does not seem to be that impactful."
   ]
  },
  {
   "cell_type": "markdown",
   "metadata": {},
   "source": [
    "### Assumption of t-test\n",
    "\n",
    "One assumption is that the data used came from a normal distribution. \n",
    "<br>\n",
    "There's a [Shapiro-Wilk test](https://en.wikipedia.org/wiki/Shapiro-Wilk) to test for normality. If p-value is less than 0.05, then there's a low chance that the distribution is normal.\n",
    "\n",
    "* *Are the `weed_ca_jan2015` and `weed_ca_jan2014` data normally distributed?*"
   ]
  },
  {
   "cell_type": "markdown",
   "metadata": {},
   "source": [
    "stats.shapiro?--based on the pvalues it is likely they are normally distributed"
   ]
  },
  {
   "cell_type": "code",
   "execution_count": 13,
   "metadata": {},
   "outputs": [
    {
     "data": {
      "text/plain": [
       "(0.9469053149223328, 0.12818680703639984)"
      ]
     },
     "execution_count": 13,
     "metadata": {},
     "output_type": "execute_result"
    }
   ],
   "source": [
    "stats.shapiro(weed_ca_jan2015)"
   ]
  },
  {
   "cell_type": "code",
   "execution_count": 14,
   "metadata": {},
   "outputs": [
    {
     "data": {
      "text/plain": [
       "(0.9353488683700562, 0.06141229346394539)"
      ]
     },
     "execution_count": 14,
     "metadata": {},
     "output_type": "execute_result"
    }
   ],
   "source": [
    "stats.shapiro(weed_ca_jan2014)"
   ]
  },
  {
   "cell_type": "markdown",
   "metadata": {},
   "source": [
    "### A/B testing\n",
    "\n",
    "Comparing two versions to check which one performs better. Eg: Show to people two variants for the same webpage that they want to see and find which one provides better conversion rate (or the relevant metric). [wiki](https://en.wikipedia.org/wiki/A/B_testing)"
   ]
  },
  {
   "cell_type": "markdown",
   "metadata": {},
   "source": [
    "**Exercise: Impact of regulation and deregulation.**\n",
    "\n",
    "* _**CoderGirl**: Use what you've learned above to answer the below two questions._\n",
    "\n",
    "Information on regulation of Weed in the US by State [wiki](Impact of regulation and deregulation on a couple of states )\n",
    "\n",
    "1. Alaska legalized it on 4th Nov 2014. Find if prices significantly changed in Dec 2014 compared to Oct 2014. \n",
    "2. Maryland decriminalized possessing weed from Oct 1, 2014. Find if prices of weed changed significantly in Oct 2014 compared to Sep 2014"
   ]
  },
  {
   "cell_type": "code",
   "execution_count": 86,
   "metadata": {},
   "outputs": [
    {
     "name": "stdout",
     "output_type": "stream",
     "text": [
      "Effect size of high quality weed in Alaska between Oct 2014 and Dec 2014 is: 10.28419354838718\n",
      "Ttest_indResult(statistic=array([15.1433024]), pvalue=array([3.65519294e-22]))\n",
      "\n",
      "Effect size of high quality weed in Maryland between Sept 2014 and Oct 2014 is: 0.8180752688172106\n",
      "Ttest_indResult(statistic=array([11.79234284]), pvalue=array([3.74258204e-17]))\n"
     ]
    }
   ],
   "source": [
    "weed_alaska_dec2014 = weed_pd.loc[(weed_pd['State'] == 'Alaska') & (weed_pd['month'] == 12) & (weed_pd['year'] == 2014), ['HighQ']].to_numpy()\n",
    "weed_alaska_oct2014 = weed_pd.loc[(weed_pd['State'] == 'Alaska') & (weed_pd['month'] == 10) & (weed_pd['year'] == 2014), ['HighQ']].to_numpy()\n",
    "\n",
    "print(\"Effect size of high quality weed in Alaska between Oct 2014 and Dec 2014 is:\", np.mean(weed_alaska_dec2014)-np.mean(weed_alaska_oct2014))\n",
    "print(stats.ttest_ind(weed_alaska_dec2014, weed_alaska_oct2014, equal_var=True))\n",
    "print()\n",
    "weed_maryland_sept2014 = weed_pd.loc[(weed_pd['State'] == 'Maryland') & (weed_pd['month'] == 9) & (weed_pd['year'] == 2014), ['HighQ']].to_numpy()\n",
    "weed_maryland_oct2014 = weed_pd.loc[(weed_pd['State'] == 'Maryland') & (weed_pd['month'] == 10) & (weed_pd['year'] == 2014), ['HighQ']].to_numpy()\n",
    "\n",
    "print(\"Effect size of high quality weed in Maryland between Sept 2014 and Oct 2014 is:\", np.mean(weed_maryland_sept2014)-np.mean(weed_maryland_oct2014))\n",
    "print(stats.ttest_ind(weed_maryland_sept2014, weed_maryland_oct2014, equal_var=True))"
   ]
  },
  {
   "cell_type": "markdown",
   "metadata": {},
   "source": [
    "<h2> Something to think about: Which of these give smaller p-values ? </h2>\n",
    "   \n",
    "   * Smaller effect size --> smaller effect size would be smaller difference between them\n",
    "   * Smaller standard error --> this\n",
    "   * Smaller sample size --> opposite of what's true\n",
    "   * Higher variance --> high variability in data would result in less confidence there is an effect\n",
    "   \n",
    "   **Answer:** \n",
    "   smaller standard error"
   ]
  },
  {
   "cell_type": "markdown",
   "metadata": {},
   "source": [
    "### Chi-square tests"
   ]
  },
  {
   "cell_type": "markdown",
   "metadata": {},
   "source": [
    "Chi-Square tests are used when the data are frequencies, rather than numerical score/price.\n",
    "\n",
    "The following two tests make use of chi-square statistic\n",
    "\n",
    "1. chi-square test for goodness of fit\n",
    "2. chi-square test for independence\n",
    "\n",
    "Chi-square test is a non-parametric test. They do not require assumptions about population parameters and they do not test hypotheses about population parameters."
   ]
  },
  {
   "cell_type": "markdown",
   "metadata": {},
   "source": [
    "<h2> Chi-Square test for goodness fit </h2>"
   ]
  },
  {
   "cell_type": "markdown",
   "metadata": {},
   "source": [
    "$$ \\chi^2 = \\sum (O - E)^2/E $$\n",
    "\n",
    "* O is observed frequency\n",
    "* E is expected frequency\n",
    "* $ \\chi $ is the chi-square statistic"
   ]
  },
  {
   "cell_type": "markdown",
   "metadata": {},
   "source": [
    "Let's assume the proportion of people who bought High, Medium and Low quality weed in Jan-2014 as the expected proportion. Find if proportion of people who bought weed in Jan 2015 conformed to the norm"
   ]
  },
  {
   "cell_type": "markdown",
   "metadata": {},
   "source": [
    "* Find the total numbers of people who bought High/Med/Low quality weed in January of each year."
   ]
  },
  {
   "cell_type": "code",
   "execution_count": 87,
   "metadata": {},
   "outputs": [
    {
     "data": {
      "text/html": [
       "<div>\n",
       "<style scoped>\n",
       "    .dataframe tbody tr th:only-of-type {\n",
       "        vertical-align: middle;\n",
       "    }\n",
       "\n",
       "    .dataframe tbody tr th {\n",
       "        vertical-align: top;\n",
       "    }\n",
       "\n",
       "    .dataframe thead th {\n",
       "        text-align: right;\n",
       "    }\n",
       "</style>\n",
       "<table border=\"1\" class=\"dataframe\">\n",
       "  <thead>\n",
       "    <tr style=\"text-align: right;\">\n",
       "      <th></th>\n",
       "      <th>HighQN</th>\n",
       "      <th>MedQN</th>\n",
       "      <th>LowQN</th>\n",
       "    </tr>\n",
       "  </thead>\n",
       "  <tbody>\n",
       "    <tr>\n",
       "      <th>0</th>\n",
       "      <td>1042</td>\n",
       "      <td>933</td>\n",
       "      <td>123</td>\n",
       "    </tr>\n",
       "    <tr>\n",
       "      <th>1</th>\n",
       "      <td>252</td>\n",
       "      <td>297</td>\n",
       "      <td>26</td>\n",
       "    </tr>\n",
       "    <tr>\n",
       "      <th>2</th>\n",
       "      <td>1941</td>\n",
       "      <td>1625</td>\n",
       "      <td>222</td>\n",
       "    </tr>\n",
       "    <tr>\n",
       "      <th>3</th>\n",
       "      <td>576</td>\n",
       "      <td>544</td>\n",
       "      <td>112</td>\n",
       "    </tr>\n",
       "    <tr>\n",
       "      <th>4</th>\n",
       "      <td>12096</td>\n",
       "      <td>12812</td>\n",
       "      <td>778</td>\n",
       "    </tr>\n",
       "    <tr>\n",
       "      <th>...</th>\n",
       "      <td>...</td>\n",
       "      <td>...</td>\n",
       "      <td>...</td>\n",
       "    </tr>\n",
       "    <tr>\n",
       "      <th>22435</th>\n",
       "      <td>2583</td>\n",
       "      <td>2072</td>\n",
       "      <td>218</td>\n",
       "    </tr>\n",
       "    <tr>\n",
       "      <th>22436</th>\n",
       "      <td>2431</td>\n",
       "      <td>2464</td>\n",
       "      <td>113</td>\n",
       "    </tr>\n",
       "    <tr>\n",
       "      <th>22437</th>\n",
       "      <td>379</td>\n",
       "      <td>389</td>\n",
       "      <td>41</td>\n",
       "    </tr>\n",
       "    <tr>\n",
       "      <th>22438</th>\n",
       "      <td>1697</td>\n",
       "      <td>1451</td>\n",
       "      <td>133</td>\n",
       "    </tr>\n",
       "    <tr>\n",
       "      <th>22439</th>\n",
       "      <td>94</td>\n",
       "      <td>137</td>\n",
       "      <td>11</td>\n",
       "    </tr>\n",
       "  </tbody>\n",
       "</table>\n",
       "<p>1581 rows × 3 columns</p>\n",
       "</div>"
      ],
      "text/plain": [
       "       HighQN  MedQN  LowQN\n",
       "0        1042    933    123\n",
       "1         252    297     26\n",
       "2        1941   1625    222\n",
       "3         576    544    112\n",
       "4       12096  12812    778\n",
       "...       ...    ...    ...\n",
       "22435    2583   2072    218\n",
       "22436    2431   2464    113\n",
       "22437     379    389     41\n",
       "22438    1697   1451    133\n",
       "22439      94    137     11\n",
       "\n",
       "[1581 rows x 3 columns]"
      ]
     },
     "execution_count": 87,
     "metadata": {},
     "output_type": "execute_result"
    }
   ],
   "source": [
    "weed_jan2014 = weed_pd[(weed_pd.year==2014) & (weed_pd.month==1)][[\"HighQN\", \"MedQN\", \"LowQN\"]]\n",
    "weed_jan2015 = weed_pd[(weed_pd.year==2015) & (weed_pd.month==1)][[\"HighQN\", \"MedQN\", \"LowQN\"]]\n",
    "\n",
    "weed_jan2014"
   ]
  },
  {
   "cell_type": "code",
   "execution_count": 88,
   "metadata": {},
   "outputs": [],
   "source": [
    "Expected = np.array(weed_jan2014.apply(sum, axis=0))\n",
    "Observed = np.array(weed_jan2015.apply(sum, axis=0))"
   ]
  },
  {
   "cell_type": "code",
   "execution_count": 89,
   "metadata": {},
   "outputs": [
    {
     "name": "stdout",
     "output_type": "stream",
     "text": [
      "Expected: [2918004 2644757  263958] \n",
      " Observed: [4057716 4035049  358088]\n"
     ]
    }
   ],
   "source": [
    "print(\"Expected:\", Expected, \"\\n\" , \"Observed:\", Observed)"
   ]
  },
  {
   "cell_type": "markdown",
   "metadata": {},
   "source": [
    "* Print the proportions of High/Med/Low quality weed bought and observed."
   ]
  },
  {
   "cell_type": "code",
   "execution_count": 90,
   "metadata": {},
   "outputs": [
    {
     "name": "stdout",
     "output_type": "stream",
     "text": [
      "Expected: [0.5007971  0.45390159 0.04530131] \n",
      " Observed: [0.48015461 0.47747239 0.042373  ]\n"
     ]
    }
   ],
   "source": [
    "print(\"Expected:\", Expected/np.sum(Expected.astype(float)), \"\\n\" , \"Observed:\", Observed/np.sum(Observed.astype(float)))"
   ]
  },
  {
   "cell_type": "markdown",
   "metadata": {},
   "source": [
    "* Do the Chi-Squared test. What is your result? Were the proportions of people buying high quality weed in Jan 2015 different than expected?"
   ]
  },
  {
   "cell_type": "code",
   "execution_count": 33,
   "metadata": {},
   "outputs": [],
   "source": [
    "stats.chisquare?"
   ]
  },
  {
   "cell_type": "code",
   "execution_count": 92,
   "metadata": {},
   "outputs": [
    {
     "data": {
      "text/plain": [
       "Power_divergenceResult(statistic=1209562.2775169075, pvalue=0.0)"
      ]
     },
     "execution_count": 92,
     "metadata": {},
     "output_type": "execute_result"
    }
   ],
   "source": [
    "stats.chisquare(Observed , Expected, ddof=0, axis = 0)"
   ]
  },
  {
   "cell_type": "markdown",
   "metadata": {},
   "source": [
    "*Inference* : We reject null hypothesis. The proportions in Jan 2015 is different than what was expected."
   ]
  }
 ],
 "metadata": {
  "kernelspec": {
   "display_name": "Python 3",
   "language": "python",
   "name": "python3"
  },
  "language_info": {
   "codemirror_mode": {
    "name": "ipython",
    "version": 3
   },
   "file_extension": ".py",
   "mimetype": "text/x-python",
   "name": "python",
   "nbconvert_exporter": "python",
   "pygments_lexer": "ipython3",
   "version": "3.7.8"
  }
 },
 "nbformat": 4,
 "nbformat_minor": 4
}
